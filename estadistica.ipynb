{
 "cells": [
  {
   "cell_type": "code",
   "execution_count": null,
   "id": "af2e0a2a",
   "metadata": {},
   "outputs": [
    {
     "data": {
      "application/vnd.microsoft.datawrangler.viewer.v0+json": {
       "columns": [
        {
         "name": "index",
         "rawType": "int64",
         "type": "integer"
        },
        {
         "name": "transaction_id",
         "rawType": "int64",
         "type": "integer"
        },
        {
         "name": "fecha_transaccion",
         "rawType": "object",
         "type": "string"
        },
        {
         "name": "hora_transaccion",
         "rawType": "object",
         "type": "string"
        },
        {
         "name": "cantidad_transaccion",
         "rawType": "int64",
         "type": "integer"
        },
        {
         "name": "id_tienda",
         "rawType": "int64",
         "type": "integer"
        },
        {
         "name": "ubicacion_tienda",
         "rawType": "object",
         "type": "string"
        },
        {
         "name": "id_producto",
         "rawType": "int64",
         "type": "integer"
        },
        {
         "name": "precio_unitario",
         "rawType": "float64",
         "type": "float"
        },
        {
         "name": "categoria_producto",
         "rawType": "object",
         "type": "string"
        },
        {
         "name": "tipo_producto",
         "rawType": "object",
         "type": "string"
        },
        {
         "name": "product_detail",
         "rawType": "object",
         "type": "string"
        },
        {
         "name": "tiempo_transaccion",
         "rawType": "object",
         "type": "string"
        },
        {
         "name": "total_venta",
         "rawType": "float64",
         "type": "float"
        }
       ],
       "ref": "ad5e1808-f849-40fc-9804-93d3ec2c7a46",
       "rows": [
        [
         "0",
         "1",
         "2023-01-01",
         "07:06:11",
         "2",
         "5",
         "Lower Manhattan",
         "32",
         "3.0",
         "Coffee",
         "Gourmet brewed coffee",
         "Ethiopia Rg",
         "2023-01-01 07:06:11",
         "6.0"
        ],
        [
         "1",
         "2",
         "2023-01-01",
         "07:08:56",
         "2",
         "5",
         "Lower Manhattan",
         "57",
         "3.1",
         "Tea",
         "Brewed Chai tea",
         "Spicy Eye Opener Chai Lg",
         "2023-01-01 07:08:56",
         "6.2"
        ],
        [
         "2",
         "3",
         "2023-01-01",
         "07:14:04",
         "2",
         "5",
         "Lower Manhattan",
         "59",
         "4.5",
         "Drinking Chocolate",
         "Hot chocolate",
         "Dark chocolate Lg",
         "2023-01-01 07:14:04",
         "9.0"
        ],
        [
         "3",
         "4",
         "2023-01-01",
         "07:20:24",
         "1",
         "5",
         "Lower Manhattan",
         "22",
         "2.0",
         "Coffee",
         "Drip coffee",
         "Our Old Time Diner Blend Sm",
         "2023-01-01 07:20:24",
         "2.0"
        ],
        [
         "4",
         "5",
         "2023-01-01",
         "07:22:41",
         "2",
         "5",
         "Lower Manhattan",
         "57",
         "3.1",
         "Tea",
         "Brewed Chai tea",
         "Spicy Eye Opener Chai Lg",
         "2023-01-01 07:22:41",
         "6.2"
        ]
       ],
       "shape": {
        "columns": 13,
        "rows": 5
       }
      },
      "text/html": [
       "<div>\n",
       "<style scoped>\n",
       "    .dataframe tbody tr th:only-of-type {\n",
       "        vertical-align: middle;\n",
       "    }\n",
       "\n",
       "    .dataframe tbody tr th {\n",
       "        vertical-align: top;\n",
       "    }\n",
       "\n",
       "    .dataframe thead th {\n",
       "        text-align: right;\n",
       "    }\n",
       "</style>\n",
       "<table border=\"1\" class=\"dataframe\">\n",
       "  <thead>\n",
       "    <tr style=\"text-align: right;\">\n",
       "      <th></th>\n",
       "      <th>transaction_id</th>\n",
       "      <th>fecha_transaccion</th>\n",
       "      <th>hora_transaccion</th>\n",
       "      <th>cantidad_transaccion</th>\n",
       "      <th>id_tienda</th>\n",
       "      <th>ubicacion_tienda</th>\n",
       "      <th>id_producto</th>\n",
       "      <th>precio_unitario</th>\n",
       "      <th>categoria_producto</th>\n",
       "      <th>tipo_producto</th>\n",
       "      <th>product_detail</th>\n",
       "      <th>tiempo_transaccion</th>\n",
       "      <th>total_venta</th>\n",
       "    </tr>\n",
       "  </thead>\n",
       "  <tbody>\n",
       "    <tr>\n",
       "      <th>0</th>\n",
       "      <td>1</td>\n",
       "      <td>2023-01-01</td>\n",
       "      <td>07:06:11</td>\n",
       "      <td>2</td>\n",
       "      <td>5</td>\n",
       "      <td>Lower Manhattan</td>\n",
       "      <td>32</td>\n",
       "      <td>3.0</td>\n",
       "      <td>Coffee</td>\n",
       "      <td>Gourmet brewed coffee</td>\n",
       "      <td>Ethiopia Rg</td>\n",
       "      <td>2023-01-01 07:06:11</td>\n",
       "      <td>6.0</td>\n",
       "    </tr>\n",
       "    <tr>\n",
       "      <th>1</th>\n",
       "      <td>2</td>\n",
       "      <td>2023-01-01</td>\n",
       "      <td>07:08:56</td>\n",
       "      <td>2</td>\n",
       "      <td>5</td>\n",
       "      <td>Lower Manhattan</td>\n",
       "      <td>57</td>\n",
       "      <td>3.1</td>\n",
       "      <td>Tea</td>\n",
       "      <td>Brewed Chai tea</td>\n",
       "      <td>Spicy Eye Opener Chai Lg</td>\n",
       "      <td>2023-01-01 07:08:56</td>\n",
       "      <td>6.2</td>\n",
       "    </tr>\n",
       "    <tr>\n",
       "      <th>2</th>\n",
       "      <td>3</td>\n",
       "      <td>2023-01-01</td>\n",
       "      <td>07:14:04</td>\n",
       "      <td>2</td>\n",
       "      <td>5</td>\n",
       "      <td>Lower Manhattan</td>\n",
       "      <td>59</td>\n",
       "      <td>4.5</td>\n",
       "      <td>Drinking Chocolate</td>\n",
       "      <td>Hot chocolate</td>\n",
       "      <td>Dark chocolate Lg</td>\n",
       "      <td>2023-01-01 07:14:04</td>\n",
       "      <td>9.0</td>\n",
       "    </tr>\n",
       "    <tr>\n",
       "      <th>3</th>\n",
       "      <td>4</td>\n",
       "      <td>2023-01-01</td>\n",
       "      <td>07:20:24</td>\n",
       "      <td>1</td>\n",
       "      <td>5</td>\n",
       "      <td>Lower Manhattan</td>\n",
       "      <td>22</td>\n",
       "      <td>2.0</td>\n",
       "      <td>Coffee</td>\n",
       "      <td>Drip coffee</td>\n",
       "      <td>Our Old Time Diner Blend Sm</td>\n",
       "      <td>2023-01-01 07:20:24</td>\n",
       "      <td>2.0</td>\n",
       "    </tr>\n",
       "    <tr>\n",
       "      <th>4</th>\n",
       "      <td>5</td>\n",
       "      <td>2023-01-01</td>\n",
       "      <td>07:22:41</td>\n",
       "      <td>2</td>\n",
       "      <td>5</td>\n",
       "      <td>Lower Manhattan</td>\n",
       "      <td>57</td>\n",
       "      <td>3.1</td>\n",
       "      <td>Tea</td>\n",
       "      <td>Brewed Chai tea</td>\n",
       "      <td>Spicy Eye Opener Chai Lg</td>\n",
       "      <td>2023-01-01 07:22:41</td>\n",
       "      <td>6.2</td>\n",
       "    </tr>\n",
       "  </tbody>\n",
       "</table>\n",
       "</div>"
      ],
      "text/plain": [
       "   transaction_id fecha_transaccion hora_transaccion  cantidad_transaccion  \\\n",
       "0               1        2023-01-01         07:06:11                     2   \n",
       "1               2        2023-01-01         07:08:56                     2   \n",
       "2               3        2023-01-01         07:14:04                     2   \n",
       "3               4        2023-01-01         07:20:24                     1   \n",
       "4               5        2023-01-01         07:22:41                     2   \n",
       "\n",
       "   id_tienda ubicacion_tienda  id_producto  precio_unitario  \\\n",
       "0          5  Lower Manhattan           32              3.0   \n",
       "1          5  Lower Manhattan           57              3.1   \n",
       "2          5  Lower Manhattan           59              4.5   \n",
       "3          5  Lower Manhattan           22              2.0   \n",
       "4          5  Lower Manhattan           57              3.1   \n",
       "\n",
       "   categoria_producto          tipo_producto               product_detail  \\\n",
       "0              Coffee  Gourmet brewed coffee                  Ethiopia Rg   \n",
       "1                 Tea        Brewed Chai tea     Spicy Eye Opener Chai Lg   \n",
       "2  Drinking Chocolate          Hot chocolate            Dark chocolate Lg   \n",
       "3              Coffee            Drip coffee  Our Old Time Diner Blend Sm   \n",
       "4                 Tea        Brewed Chai tea     Spicy Eye Opener Chai Lg   \n",
       "\n",
       "    tiempo_transaccion  total_venta  \n",
       "0  2023-01-01 07:06:11          6.0  \n",
       "1  2023-01-01 07:08:56          6.2  \n",
       "2  2023-01-01 07:14:04          9.0  \n",
       "3  2023-01-01 07:20:24          2.0  \n",
       "4  2023-01-01 07:22:41          6.2  "
      ]
     },
     "execution_count": 77,
     "metadata": {},
     "output_type": "execute_result"
    }
   ],
   "source": [
    "import pandas as pd\n",
    "from pathlib import Path\n",
    "import numpy as np\n",
    "from scipy import stats\n",
    "import matplotlib.pyplot as plt\n",
    "import dataframe_image as dfi\n",
    "\n",
    "PROJECT_ROOT= Path.cwd()\n",
    "data_path = Path(PROJECT_ROOT,\"data/processed/Coffee_Shop_Sales.csv\")\n",
    "data = pd.read_csv(data_path)\n",
    "data.head()\n",
    "\n",
    "\n"
   ]
  },
  {
   "cell_type": "code",
   "execution_count": 72,
   "id": "08da1916",
   "metadata": {},
   "outputs": [
    {
     "name": "stdout",
     "output_type": "stream",
     "text": [
      "<class 'pandas.core.frame.DataFrame'>\n",
      "RangeIndex: 149116 entries, 0 to 149115\n",
      "Data columns (total 13 columns):\n",
      " #   Column                Non-Null Count   Dtype  \n",
      "---  ------                --------------   -----  \n",
      " 0   transaction_id        149116 non-null  int64  \n",
      " 1   fecha_transaccion     149116 non-null  object \n",
      " 2   hora_transaccion      149116 non-null  object \n",
      " 3   cantidad_transaccion  149116 non-null  int64  \n",
      " 4   id_tienda             149116 non-null  int64  \n",
      " 5   ubicacion_tienda      149116 non-null  object \n",
      " 6   id_producto           149116 non-null  int64  \n",
      " 7   precio_unitario       149116 non-null  float64\n",
      " 8   categoria_producto    149116 non-null  object \n",
      " 9   tipo_producto         149116 non-null  object \n",
      " 10  product_detail        149116 non-null  object \n",
      " 11  tiempo_transaccion    149116 non-null  object \n",
      " 12  total_venta           149116 non-null  float64\n",
      "dtypes: float64(2), int64(4), object(7)\n",
      "memory usage: 14.8+ MB\n"
     ]
    },
    {
     "data": {
      "application/vnd.microsoft.datawrangler.viewer.v0+json": {
       "columns": [
        {
         "name": "index",
         "rawType": "object",
         "type": "string"
        },
        {
         "name": "count",
         "rawType": "float64",
         "type": "float"
        },
        {
         "name": "mean",
         "rawType": "float64",
         "type": "float"
        },
        {
         "name": "std",
         "rawType": "float64",
         "type": "float"
        },
        {
         "name": "min",
         "rawType": "float64",
         "type": "float"
        },
        {
         "name": "25%",
         "rawType": "float64",
         "type": "float"
        },
        {
         "name": "50%",
         "rawType": "float64",
         "type": "float"
        },
        {
         "name": "75%",
         "rawType": "float64",
         "type": "float"
        },
        {
         "name": "max",
         "rawType": "float64",
         "type": "float"
        }
       ],
       "ref": "5f3484c7-47ff-485d-84da-ee8e168c054f",
       "rows": [
        [
         "cantidad_transaccion",
         "149116.0",
         "1.438276241315486",
         "0.5425087647372191",
         "1.0",
         "1.0",
         "1.0",
         "2.0",
         "8.0"
        ],
        [
         "precio_unitario",
         "149116.0",
         "3.3822194130743855",
         "2.658722616662716",
         "0.8",
         "2.5",
         "3.0",
         "3.75",
         "45.0"
        ],
        [
         "total_venta",
         "149116.0",
         "4.6863671906435265",
         "4.22709906446811",
         "0.8",
         "3.0",
         "3.75",
         "6.0",
         "360.0"
        ]
       ],
       "shape": {
        "columns": 8,
        "rows": 3
       }
      },
      "text/html": [
       "<div>\n",
       "<style scoped>\n",
       "    .dataframe tbody tr th:only-of-type {\n",
       "        vertical-align: middle;\n",
       "    }\n",
       "\n",
       "    .dataframe tbody tr th {\n",
       "        vertical-align: top;\n",
       "    }\n",
       "\n",
       "    .dataframe thead th {\n",
       "        text-align: right;\n",
       "    }\n",
       "</style>\n",
       "<table border=\"1\" class=\"dataframe\">\n",
       "  <thead>\n",
       "    <tr style=\"text-align: right;\">\n",
       "      <th></th>\n",
       "      <th>count</th>\n",
       "      <th>mean</th>\n",
       "      <th>std</th>\n",
       "      <th>min</th>\n",
       "      <th>25%</th>\n",
       "      <th>50%</th>\n",
       "      <th>75%</th>\n",
       "      <th>max</th>\n",
       "    </tr>\n",
       "  </thead>\n",
       "  <tbody>\n",
       "    <tr>\n",
       "      <th>cantidad_transaccion</th>\n",
       "      <td>149116.0</td>\n",
       "      <td>1.438276</td>\n",
       "      <td>0.542509</td>\n",
       "      <td>1.0</td>\n",
       "      <td>1.0</td>\n",
       "      <td>1.00</td>\n",
       "      <td>2.00</td>\n",
       "      <td>8.0</td>\n",
       "    </tr>\n",
       "    <tr>\n",
       "      <th>precio_unitario</th>\n",
       "      <td>149116.0</td>\n",
       "      <td>3.382219</td>\n",
       "      <td>2.658723</td>\n",
       "      <td>0.8</td>\n",
       "      <td>2.5</td>\n",
       "      <td>3.00</td>\n",
       "      <td>3.75</td>\n",
       "      <td>45.0</td>\n",
       "    </tr>\n",
       "    <tr>\n",
       "      <th>total_venta</th>\n",
       "      <td>149116.0</td>\n",
       "      <td>4.686367</td>\n",
       "      <td>4.227099</td>\n",
       "      <td>0.8</td>\n",
       "      <td>3.0</td>\n",
       "      <td>3.75</td>\n",
       "      <td>6.00</td>\n",
       "      <td>360.0</td>\n",
       "    </tr>\n",
       "  </tbody>\n",
       "</table>\n",
       "</div>"
      ],
      "text/plain": [
       "                         count      mean       std  min  25%   50%   75%  \\\n",
       "cantidad_transaccion  149116.0  1.438276  0.542509  1.0  1.0  1.00  2.00   \n",
       "precio_unitario       149116.0  3.382219  2.658723  0.8  2.5  3.00  3.75   \n",
       "total_venta           149116.0  4.686367  4.227099  0.8  3.0  3.75  6.00   \n",
       "\n",
       "                        max  \n",
       "cantidad_transaccion    8.0  \n",
       "precio_unitario        45.0  \n",
       "total_venta           360.0  "
      ]
     },
     "execution_count": 72,
     "metadata": {},
     "output_type": "execute_result"
    }
   ],
   "source": [
    "data.info()\n",
    "cols_validas = [\n",
    "    c for c in data.select_dtypes(include='number').columns\n",
    "    if not (c.lower().startswith(\"id\") or c.lower().endswith(\"id\"))\n",
    "]\n",
    "\n",
    "data[cols_validas].describe().T\n"
   ]
  },
  {
   "cell_type": "markdown",
   "id": "766d5558",
   "metadata": {},
   "source": [
    "### 2.a Calcular y mostrar los siguientes estadísticos:\n",
    "▪ Medidas de tendencia central: media, mediana y moda.  \n",
    "▪ Medidas de dispersión: varianza, desviación estándar y rango.  \n",
    "▪ Percentiles y cuartiles (25, 50 y 75)   \n",
    "▪ Intervalo de confianza (95%) para la media de una variable numérica\n",
    "relevante."
   ]
  },
  {
   "cell_type": "code",
   "execution_count": 73,
   "id": "bdd2a177",
   "metadata": {},
   "outputs": [
    {
     "data": {
      "application/vnd.microsoft.datawrangler.viewer.v0+json": {
       "columns": [
        {
         "name": "index",
         "rawType": "int64",
         "type": "integer"
        },
        {
         "name": "Variable",
         "rawType": "object",
         "type": "string"
        },
        {
         "name": "Media",
         "rawType": "float64",
         "type": "float"
        },
        {
         "name": "Mediana",
         "rawType": "float64",
         "type": "float"
        },
        {
         "name": "Moda",
         "rawType": "float64",
         "type": "float"
        },
        {
         "name": "Varianza",
         "rawType": "float64",
         "type": "float"
        },
        {
         "name": "Desviación estándar",
         "rawType": "float64",
         "type": "float"
        },
        {
         "name": "Rango",
         "rawType": "float64",
         "type": "float"
        },
        {
         "name": "Q25",
         "rawType": "float64",
         "type": "float"
        },
        {
         "name": "Q50",
         "rawType": "float64",
         "type": "float"
        },
        {
         "name": "Q75",
         "rawType": "float64",
         "type": "float"
        },
        {
         "name": "IC 95% Inferior",
         "rawType": "float64",
         "type": "float"
        },
        {
         "name": "IC 95% Superior",
         "rawType": "float64",
         "type": "float"
        }
       ],
       "ref": "ba008ed4-39d9-4923-89f0-fc9575f631f4",
       "rows": [
        [
         "0",
         "cantidad_transaccion",
         "1.44",
         "1.0",
         "1.0",
         "0.29",
         "0.54",
         "7.0",
         "1.0",
         "1.0",
         "2.0",
         "1.44",
         "1.44"
        ],
        [
         "1",
         "precio_unitario",
         "3.38",
         "3.0",
         "3.0",
         "7.07",
         "2.66",
         "44.2",
         "2.5",
         "3.0",
         "3.75",
         "3.37",
         "3.4"
        ],
        [
         "2",
         "total_venta",
         "4.69",
         "3.75",
         "3.0",
         "17.87",
         "4.23",
         "359.2",
         "3.0",
         "3.75",
         "6.0",
         "4.66",
         "4.71"
        ]
       ],
       "shape": {
        "columns": 12,
        "rows": 3
       }
      },
      "text/html": [
       "<div>\n",
       "<style scoped>\n",
       "    .dataframe tbody tr th:only-of-type {\n",
       "        vertical-align: middle;\n",
       "    }\n",
       "\n",
       "    .dataframe tbody tr th {\n",
       "        vertical-align: top;\n",
       "    }\n",
       "\n",
       "    .dataframe thead th {\n",
       "        text-align: right;\n",
       "    }\n",
       "</style>\n",
       "<table border=\"1\" class=\"dataframe\">\n",
       "  <thead>\n",
       "    <tr style=\"text-align: right;\">\n",
       "      <th></th>\n",
       "      <th>Variable</th>\n",
       "      <th>Media</th>\n",
       "      <th>Mediana</th>\n",
       "      <th>Moda</th>\n",
       "      <th>Varianza</th>\n",
       "      <th>Desviación estándar</th>\n",
       "      <th>Rango</th>\n",
       "      <th>Q25</th>\n",
       "      <th>Q50</th>\n",
       "      <th>Q75</th>\n",
       "      <th>IC 95% Inferior</th>\n",
       "      <th>IC 95% Superior</th>\n",
       "    </tr>\n",
       "  </thead>\n",
       "  <tbody>\n",
       "    <tr>\n",
       "      <th>0</th>\n",
       "      <td>cantidad_transaccion</td>\n",
       "      <td>1.44</td>\n",
       "      <td>1.00</td>\n",
       "      <td>1.0</td>\n",
       "      <td>0.29</td>\n",
       "      <td>0.54</td>\n",
       "      <td>7.0</td>\n",
       "      <td>1.0</td>\n",
       "      <td>1.00</td>\n",
       "      <td>2.00</td>\n",
       "      <td>1.44</td>\n",
       "      <td>1.44</td>\n",
       "    </tr>\n",
       "    <tr>\n",
       "      <th>1</th>\n",
       "      <td>precio_unitario</td>\n",
       "      <td>3.38</td>\n",
       "      <td>3.00</td>\n",
       "      <td>3.0</td>\n",
       "      <td>7.07</td>\n",
       "      <td>2.66</td>\n",
       "      <td>44.2</td>\n",
       "      <td>2.5</td>\n",
       "      <td>3.00</td>\n",
       "      <td>3.75</td>\n",
       "      <td>3.37</td>\n",
       "      <td>3.40</td>\n",
       "    </tr>\n",
       "    <tr>\n",
       "      <th>2</th>\n",
       "      <td>total_venta</td>\n",
       "      <td>4.69</td>\n",
       "      <td>3.75</td>\n",
       "      <td>3.0</td>\n",
       "      <td>17.87</td>\n",
       "      <td>4.23</td>\n",
       "      <td>359.2</td>\n",
       "      <td>3.0</td>\n",
       "      <td>3.75</td>\n",
       "      <td>6.00</td>\n",
       "      <td>4.66</td>\n",
       "      <td>4.71</td>\n",
       "    </tr>\n",
       "  </tbody>\n",
       "</table>\n",
       "</div>"
      ],
      "text/plain": [
       "               Variable  Media  Mediana  Moda  Varianza  Desviación estándar  \\\n",
       "0  cantidad_transaccion   1.44     1.00   1.0      0.29                 0.54   \n",
       "1       precio_unitario   3.38     3.00   3.0      7.07                 2.66   \n",
       "2           total_venta   4.69     3.75   3.0     17.87                 4.23   \n",
       "\n",
       "   Rango  Q25   Q50   Q75  IC 95% Inferior  IC 95% Superior  \n",
       "0    7.0  1.0  1.00  2.00             1.44             1.44  \n",
       "1   44.2  2.5  3.00  3.75             3.37             3.40  \n",
       "2  359.2  3.0  3.75  6.00             4.66             4.71  "
      ]
     },
     "execution_count": 73,
     "metadata": {},
     "output_type": "execute_result"
    }
   ],
   "source": [
    "confidence_level = 0.95\n",
    "resultados = []  # lista para guardar resultados de cada columna\n",
    "\n",
    "for col in data.columns:\n",
    "    if pd.api.types.is_numeric_dtype(data[col]) and not (col.lower().startswith(\"id\") or col.lower().endswith(\"id\")):\n",
    "        sample = data[col].dropna()  # eliminamos nulos\n",
    "        n = len(sample)\n",
    "        mean = np.mean(sample)\n",
    "        std_err = stats.sem(sample)\n",
    "\n",
    "        intervalo = stats.t.interval(confidence_level, n-1, loc=mean, scale=std_err)\n",
    "        intervalo = tuple(round(x, 2) for x in intervalo)\n",
    "\n",
    "        proc_stats = {\n",
    "            \"Variable\": col,\n",
    "            \"Media\": round(sample.mean(), 2),\n",
    "            \"Mediana\": round(sample.median(), 2),\n",
    "            \"Moda\": round(sample.mode()[0], 2),\n",
    "            \"Varianza\": round(sample.var(), 2),\n",
    "            \"Desviación estándar\": round(sample.std(), 2),\n",
    "            \"Rango\": round(sample.max() - sample.min(), 2),\n",
    "            \"Q25\": round(np.percentile(sample, 25), 2),\n",
    "            \"Q50\": round(np.percentile(sample, 50), 2),\n",
    "            \"Q75\": round(np.percentile(sample, 75), 2),\n",
    "            \"IC 95% Inferior\": round(intervalo[0], 2),\n",
    "            \"IC 95% Superior\": round(intervalo[1], 2)\n",
    "        }\n",
    "\n",
    "        resultados.append(proc_stats)\n",
    "\n",
    "# Crear un DataFrame con todos los resultados\n",
    "df_estadisticas = pd.DataFrame(resultados)\n",
    "\n",
    "# Mostrar\n",
    "df_estadisticas"
   ]
  },
  {
   "cell_type": "code",
   "execution_count": 81,
   "id": "0ae3c573",
   "metadata": {},
   "outputs": [],
   "source": [
    "df_estadistica_descriptiva=df_estadisticas[[\"Variable\",\"Media\",\"Mediana\",\"Moda\",\"Varianza\",\"Desviación estándar\",\"Rango\",\"Q25\",\"Q50\",\"Q75\"]].copy()\n",
    "df_intervalo_confianza=df_estadisticas[[\"Variable\",\"Rango\",\"IC 95% Inferior\",\"IC 95% Superior\"]].copy()\n",
    "\n",
    "estadisticos_descriptivos=PROJECT_ROOT/\"src/results/estadisticos_descriptivos.html\"\n",
    "intervalos_confianza=PROJECT_ROOT/\"src/results/intervalos_confianza.html\"\n",
    "# df_estadistica_descriptiva\n",
    "\n",
    "df_estadistica_descriptiva.to_html(estadisticos_descriptivos, index=False)\n",
    "df_intervalo_confianza.to_html(intervalos_confianza, index=False)"
   ]
  }
 ],
 "metadata": {
  "kernelspec": {
   "display_name": ".venv",
   "language": "python",
   "name": "python3"
  },
  "language_info": {
   "codemirror_mode": {
    "name": "ipython",
    "version": 3
   },
   "file_extension": ".py",
   "mimetype": "text/x-python",
   "name": "python",
   "nbconvert_exporter": "python",
   "pygments_lexer": "ipython3",
   "version": "3.12.4"
  }
 },
 "nbformat": 4,
 "nbformat_minor": 5
}
